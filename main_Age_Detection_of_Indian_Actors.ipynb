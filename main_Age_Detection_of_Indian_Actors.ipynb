{
  "cells": [
    {
      "cell_type": "markdown",
      "metadata": {
        "id": "view-in-github",
        "colab_type": "text"
      },
      "source": [
        "<a href=\"https://colab.research.google.com/github/ankit-144/Age-recognition/blob/main/main_Age_Detection_of_Indian_Actors.ipynb\" target=\"_parent\"><img src=\"https://colab.research.google.com/assets/colab-badge.svg\" alt=\"Open In Colab\"/></a>"
      ]
    },
    {
      "cell_type": "code",
      "execution_count": null,
      "metadata": {
        "colab": {
          "base_uri": "https://localhost:8080/"
        },
        "id": "2-aSBKtzRjnC",
        "outputId": "085021c2-1128-4c36-a93a-08d8398974c6"
      },
      "outputs": [
        {
          "output_type": "stream",
          "name": "stdout",
          "text": [
            "Looking in indexes: https://pypi.org/simple, https://us-python.pkg.dev/colab-wheels/public/simple/\n",
            "Requirement already satisfied: scipy==1.2.0 in /usr/local/lib/python3.7/dist-packages (1.2.0)\n",
            "Requirement already satisfied: numpy>=1.8.2 in /usr/local/lib/python3.7/dist-packages (from scipy==1.2.0) (1.21.6)\n"
          ]
        }
      ],
      "source": [
        "!pip install -U scipy==1.2.0"
      ]
    },
    {
      "cell_type": "code",
      "execution_count": null,
      "metadata": {
        "id": "pS850f1lSCuI"
      },
      "outputs": [],
      "source": [
        "import os\n",
        "import random\n",
        "import numpy as np\n",
        "import keras\n",
        "from keras.models import Sequential\n",
        "from keras.layers.core import Flatten, Dense, Dropout\n",
        "from keras.layers.convolutional import Convolution2D, MaxPooling2D, ZeroPadding2D\n",
        "from sklearn.preprocessing import LabelEncoder\n",
        "import pandas as pd\n",
        "from scipy.misc import imread\n",
        "from scipy.misc import imresize\n",
        "from tensorflow.keras.optimizers import SGD, Adam, Adamax\n",
        "\n",
        "\n",
        "root_dir = os.path.abspath('.')\n",
        "data_dir = ''"
      ]
    },
    {
      "cell_type": "code",
      "source": [],
      "metadata": {
        "id": "IEUTTKuSng7m"
      },
      "execution_count": null,
      "outputs": []
    },
    {
      "cell_type": "code",
      "execution_count": null,
      "metadata": {
        "colab": {
          "base_uri": "https://localhost:8080/"
        },
        "id": "uk9YMPV5SJym",
        "outputId": "585e2419-b752-4bb7-dbc4-a0b98e8557ac"
      },
      "outputs": [
        {
          "output_type": "stream",
          "name": "stdout",
          "text": [
            "Done\n"
          ]
        }
      ],
      "source": [
        "from zipfile import ZipFile\n",
        "file_name = '/content/drive/MyDrive/Colab Notebooks/ Age-Detection-of-Indian-Actors/train_DETg9GD.zip'\n",
        "\n",
        "with ZipFile(file_name, 'r') as zip:\n",
        " zip.extractall()\n",
        "print('Done')"
      ]
    },
    {
      "cell_type": "code",
      "execution_count": null,
      "metadata": {
        "colab": {
          "base_uri": "https://localhost:8080/"
        },
        "id": "JzFKrAv0UoF9",
        "outputId": "3d5010ff-7a79-4280-e62f-2688759339ed"
      },
      "outputs": [
        {
          "output_type": "stream",
          "name": "stdout",
          "text": [
            "Done\n"
          ]
        }
      ],
      "source": [
        "from zipfile import ZipFile\n",
        "file_name = '/content/drive/MyDrive/Colab Notebooks/ Age-Detection-of-Indian-Actors/test_Bh8pGW3.zip'\n",
        "\n",
        "with ZipFile(file_name, 'r') as zip:\n",
        " zip.extractall()\n",
        "print('Done')"
      ]
    },
    {
      "cell_type": "code",
      "execution_count": null,
      "metadata": {
        "id": "nEK3QLH5SaEr"
      },
      "outputs": [],
      "source": [
        "train = pd.read_csv(os.path.join(data_dir, '/content/train.csv'))\n",
        "test = pd.read_csv(os.path.join(data_dir, '/content/drive/MyDrive/Colab Notebooks/ Age-Detection-of-Indian-Actors/test_Bh8pGW3/test.csv'))"
      ]
    },
    {
      "cell_type": "code",
      "execution_count": null,
      "metadata": {
        "colab": {
          "base_uri": "https://localhost:8080/"
        },
        "id": "jm84o8Z9Ss0b",
        "outputId": "38c96a2a-79d6-4c38-a836-8a285a4fedc0"
      },
      "outputs": [
        {
          "output_type": "execute_result",
          "data": {
            "text/plain": [
              "0         377.jpg\n",
              "1       17814.jpg\n",
              "2       21283.jpg\n",
              "3       16496.jpg\n",
              "4        4487.jpg\n",
              "          ...    \n",
              "1995    14775.jpg\n",
              "1996    16928.jpg\n",
              "1997    24886.jpg\n",
              "1998    18537.jpg\n",
              "1999      183.jpg\n",
              "Name: ID, Length: 2000, dtype: object"
            ]
          },
          "metadata": {},
          "execution_count": 6
        }
      ],
      "source": [
        "train.ID[:2000]"
      ]
    },
    {
      "cell_type": "code",
      "execution_count": null,
      "metadata": {
        "colab": {
          "base_uri": "https://localhost:8080/",
          "height": 424
        },
        "id": "AwZeqgyDS7N0",
        "outputId": "9e3b8c88-63ab-4fb5-b7d3-c75f1b19096b"
      },
      "outputs": [
        {
          "output_type": "execute_result",
          "data": {
            "text/plain": [
              "             ID\n",
              "0     25321.jpg\n",
              "1       989.jpg\n",
              "2     19277.jpg\n",
              "3     13093.jpg\n",
              "4      5367.jpg\n",
              "...         ...\n",
              "6631   1876.jpg\n",
              "6632  14940.jpg\n",
              "6633   3638.jpg\n",
              "6634    376.jpg\n",
              "6635   9357.jpg\n",
              "\n",
              "[6636 rows x 1 columns]"
            ],
            "text/html": [
              "\n",
              "  <div id=\"df-a471f331-b178-4771-bd12-dce34c794ea1\">\n",
              "    <div class=\"colab-df-container\">\n",
              "      <div>\n",
              "<style scoped>\n",
              "    .dataframe tbody tr th:only-of-type {\n",
              "        vertical-align: middle;\n",
              "    }\n",
              "\n",
              "    .dataframe tbody tr th {\n",
              "        vertical-align: top;\n",
              "    }\n",
              "\n",
              "    .dataframe thead th {\n",
              "        text-align: right;\n",
              "    }\n",
              "</style>\n",
              "<table border=\"1\" class=\"dataframe\">\n",
              "  <thead>\n",
              "    <tr style=\"text-align: right;\">\n",
              "      <th></th>\n",
              "      <th>ID</th>\n",
              "    </tr>\n",
              "  </thead>\n",
              "  <tbody>\n",
              "    <tr>\n",
              "      <th>0</th>\n",
              "      <td>25321.jpg</td>\n",
              "    </tr>\n",
              "    <tr>\n",
              "      <th>1</th>\n",
              "      <td>989.jpg</td>\n",
              "    </tr>\n",
              "    <tr>\n",
              "      <th>2</th>\n",
              "      <td>19277.jpg</td>\n",
              "    </tr>\n",
              "    <tr>\n",
              "      <th>3</th>\n",
              "      <td>13093.jpg</td>\n",
              "    </tr>\n",
              "    <tr>\n",
              "      <th>4</th>\n",
              "      <td>5367.jpg</td>\n",
              "    </tr>\n",
              "    <tr>\n",
              "      <th>...</th>\n",
              "      <td>...</td>\n",
              "    </tr>\n",
              "    <tr>\n",
              "      <th>6631</th>\n",
              "      <td>1876.jpg</td>\n",
              "    </tr>\n",
              "    <tr>\n",
              "      <th>6632</th>\n",
              "      <td>14940.jpg</td>\n",
              "    </tr>\n",
              "    <tr>\n",
              "      <th>6633</th>\n",
              "      <td>3638.jpg</td>\n",
              "    </tr>\n",
              "    <tr>\n",
              "      <th>6634</th>\n",
              "      <td>376.jpg</td>\n",
              "    </tr>\n",
              "    <tr>\n",
              "      <th>6635</th>\n",
              "      <td>9357.jpg</td>\n",
              "    </tr>\n",
              "  </tbody>\n",
              "</table>\n",
              "<p>6636 rows × 1 columns</p>\n",
              "</div>\n",
              "      <button class=\"colab-df-convert\" onclick=\"convertToInteractive('df-a471f331-b178-4771-bd12-dce34c794ea1')\"\n",
              "              title=\"Convert this dataframe to an interactive table.\"\n",
              "              style=\"display:none;\">\n",
              "        \n",
              "  <svg xmlns=\"http://www.w3.org/2000/svg\" height=\"24px\"viewBox=\"0 0 24 24\"\n",
              "       width=\"24px\">\n",
              "    <path d=\"M0 0h24v24H0V0z\" fill=\"none\"/>\n",
              "    <path d=\"M18.56 5.44l.94 2.06.94-2.06 2.06-.94-2.06-.94-.94-2.06-.94 2.06-2.06.94zm-11 1L8.5 8.5l.94-2.06 2.06-.94-2.06-.94L8.5 2.5l-.94 2.06-2.06.94zm10 10l.94 2.06.94-2.06 2.06-.94-2.06-.94-.94-2.06-.94 2.06-2.06.94z\"/><path d=\"M17.41 7.96l-1.37-1.37c-.4-.4-.92-.59-1.43-.59-.52 0-1.04.2-1.43.59L10.3 9.45l-7.72 7.72c-.78.78-.78 2.05 0 2.83L4 21.41c.39.39.9.59 1.41.59.51 0 1.02-.2 1.41-.59l7.78-7.78 2.81-2.81c.8-.78.8-2.07 0-2.86zM5.41 20L4 18.59l7.72-7.72 1.47 1.35L5.41 20z\"/>\n",
              "  </svg>\n",
              "      </button>\n",
              "      \n",
              "  <style>\n",
              "    .colab-df-container {\n",
              "      display:flex;\n",
              "      flex-wrap:wrap;\n",
              "      gap: 12px;\n",
              "    }\n",
              "\n",
              "    .colab-df-convert {\n",
              "      background-color: #E8F0FE;\n",
              "      border: none;\n",
              "      border-radius: 50%;\n",
              "      cursor: pointer;\n",
              "      display: none;\n",
              "      fill: #1967D2;\n",
              "      height: 32px;\n",
              "      padding: 0 0 0 0;\n",
              "      width: 32px;\n",
              "    }\n",
              "\n",
              "    .colab-df-convert:hover {\n",
              "      background-color: #E2EBFA;\n",
              "      box-shadow: 0px 1px 2px rgba(60, 64, 67, 0.3), 0px 1px 3px 1px rgba(60, 64, 67, 0.15);\n",
              "      fill: #174EA6;\n",
              "    }\n",
              "\n",
              "    [theme=dark] .colab-df-convert {\n",
              "      background-color: #3B4455;\n",
              "      fill: #D2E3FC;\n",
              "    }\n",
              "\n",
              "    [theme=dark] .colab-df-convert:hover {\n",
              "      background-color: #434B5C;\n",
              "      box-shadow: 0px 1px 3px 1px rgba(0, 0, 0, 0.15);\n",
              "      filter: drop-shadow(0px 1px 2px rgba(0, 0, 0, 0.3));\n",
              "      fill: #FFFFFF;\n",
              "    }\n",
              "  </style>\n",
              "\n",
              "      <script>\n",
              "        const buttonEl =\n",
              "          document.querySelector('#df-a471f331-b178-4771-bd12-dce34c794ea1 button.colab-df-convert');\n",
              "        buttonEl.style.display =\n",
              "          google.colab.kernel.accessAllowed ? 'block' : 'none';\n",
              "\n",
              "        async function convertToInteractive(key) {\n",
              "          const element = document.querySelector('#df-a471f331-b178-4771-bd12-dce34c794ea1');\n",
              "          const dataTable =\n",
              "            await google.colab.kernel.invokeFunction('convertToInteractive',\n",
              "                                                     [key], {});\n",
              "          if (!dataTable) return;\n",
              "\n",
              "          const docLinkHtml = 'Like what you see? Visit the ' +\n",
              "            '<a target=\"_blank\" href=https://colab.research.google.com/notebooks/data_table.ipynb>data table notebook</a>'\n",
              "            + ' to learn more about interactive tables.';\n",
              "          element.innerHTML = '';\n",
              "          dataTable['output_type'] = 'display_data';\n",
              "          await google.colab.output.renderOutput(dataTable, element);\n",
              "          const docLink = document.createElement('div');\n",
              "          docLink.innerHTML = docLinkHtml;\n",
              "          element.appendChild(docLink);\n",
              "        }\n",
              "      </script>\n",
              "    </div>\n",
              "  </div>\n",
              "  "
            ]
          },
          "metadata": {},
          "execution_count": 7
        }
      ],
      "source": [
        "test"
      ]
    },
    {
      "cell_type": "code",
      "execution_count": null,
      "metadata": {
        "colab": {
          "base_uri": "https://localhost:8080/"
        },
        "id": "Rt_DlBKnS9Zc",
        "outputId": "7bc0f0d8-7927-4f9c-835c-311ba8d028b0"
      },
      "outputs": [
        {
          "output_type": "stream",
          "name": "stderr",
          "text": [
            "/usr/local/lib/python3.7/dist-packages/ipykernel_launcher.py:6: DeprecationWarning:     `imread` is deprecated!\n",
            "    `imread` is deprecated in SciPy 1.0.0, and will be removed in 1.2.0.\n",
            "    Use ``imageio.imread`` instead.\n",
            "  \n",
            "/usr/local/lib/python3.7/dist-packages/ipykernel_launcher.py:7: DeprecationWarning:     `imresize` is deprecated!\n",
            "    `imresize` is deprecated in SciPy 1.0.0, and will be removed in 1.3.0.\n",
            "    Use Pillow instead: ``numpy.array(Image.fromarray(arr).resize())``.\n",
            "  import sys\n"
          ]
        }
      ],
      "source": [
        "#root_dir = os.path.abspath('.')\n",
        "#data_dir = ''\n",
        "temp = []\n",
        "for img_name in train.ID:\n",
        "    img_path = os.path.join(data_dir, '/content/Train', img_name)\n",
        "    img = imread(img_path)\n",
        "    img = imresize(img, (64, 64))\n",
        "    img = img.astype('float32') # this will help us in later stage\n",
        "    temp.append(img)"
      ]
    },
    {
      "cell_type": "code",
      "source": [
        "img_path"
      ],
      "metadata": {
        "id": "uuqLuSH7yZWn",
        "colab": {
          "base_uri": "https://localhost:8080/",
          "height": 35
        },
        "outputId": "a3fbc74f-9552-4350-943d-b9509231c489"
      },
      "execution_count": null,
      "outputs": [
        {
          "output_type": "execute_result",
          "data": {
            "text/plain": [
              "'/content/Train/9896.jpg'"
            ],
            "application/vnd.google.colaboratory.intrinsic+json": {
              "type": "string"
            }
          },
          "metadata": {},
          "execution_count": 9
        }
      ]
    },
    {
      "cell_type": "code",
      "execution_count": null,
      "metadata": {
        "id": "PXu07wR0TH-4"
      },
      "outputs": [],
      "source": [
        "train_x = np.stack(temp)"
      ]
    },
    {
      "cell_type": "code",
      "execution_count": null,
      "metadata": {
        "colab": {
          "base_uri": "https://localhost:8080/"
        },
        "id": "XfRn1Hz1TMqR",
        "outputId": "20cbae87-ca12-4a4b-fc17-99174603499d"
      },
      "outputs": [
        {
          "output_type": "stream",
          "name": "stderr",
          "text": [
            "/usr/local/lib/python3.7/dist-packages/ipykernel_launcher.py:6: DeprecationWarning:     `imread` is deprecated!\n",
            "    `imread` is deprecated in SciPy 1.0.0, and will be removed in 1.2.0.\n",
            "    Use ``imageio.imread`` instead.\n",
            "  \n",
            "/usr/local/lib/python3.7/dist-packages/ipykernel_launcher.py:7: DeprecationWarning:     `imresize` is deprecated!\n",
            "    `imresize` is deprecated in SciPy 1.0.0, and will be removed in 1.3.0.\n",
            "    Use Pillow instead: ``numpy.array(Image.fromarray(arr).resize())``.\n",
            "  import sys\n"
          ]
        }
      ],
      "source": [
        "root_dir = os.path.abspath('.')\n",
        "data_dir = ''\n",
        "temp = []\n",
        "for img_name in test.ID:\n",
        "    img_path = os.path.join(data_dir, '/content/Test', img_name)\n",
        "    img = imread(img_path)\n",
        "    img = imresize(img, (64,64))\n",
        "    img = img.astype('float32') # this will help us in later stage\n",
        "    temp.append(img)"
      ]
    },
    {
      "cell_type": "code",
      "execution_count": null,
      "metadata": {
        "id": "5WIGi3xmTP3r"
      },
      "outputs": [],
      "source": [
        "test_x = np.stack(temp)"
      ]
    },
    {
      "cell_type": "code",
      "execution_count": null,
      "metadata": {
        "id": "ZQjtr7DhTXQ5"
      },
      "outputs": [],
      "source": [
        "lb = LabelEncoder()\n",
        "train_y = lb.fit_transform(train.Class)"
      ]
    },
    {
      "cell_type": "code",
      "execution_count": null,
      "metadata": {
        "colab": {
          "base_uri": "https://localhost:8080/"
        },
        "id": "acg0RyULsAmD",
        "outputId": "90e942b9-ae54-42b0-a8f4-9fce51b00be3"
      },
      "outputs": [
        {
          "output_type": "execute_result",
          "data": {
            "text/plain": [
              "array([0, 2, 0, 2, 0, 0, 2, 2, 2, 1, 2, 0, 0, 0, 0, 0, 1, 2, 1, 0, 2, 1,\n",
              "       2, 0, 0, 2, 0, 1, 0, 2])"
            ]
          },
          "metadata": {},
          "execution_count": 14
        }
      ],
      "source": [
        "train_y[:30]"
      ]
    },
    {
      "cell_type": "code",
      "execution_count": null,
      "metadata": {
        "colab": {
          "base_uri": "https://localhost:8080/"
        },
        "id": "Va7QCzYLkdBh",
        "outputId": "7ba1f430-20da-4903-a750-8a4eb61fd907"
      },
      "outputs": [
        {
          "output_type": "execute_result",
          "data": {
            "text/plain": [
              "(19906, 64, 64, 3)"
            ]
          },
          "metadata": {},
          "execution_count": 15
        }
      ],
      "source": [
        "train_x.shape"
      ]
    },
    {
      "cell_type": "code",
      "execution_count": null,
      "metadata": {
        "colab": {
          "base_uri": "https://localhost:8080/"
        },
        "id": "ISDge3N0ow4f",
        "outputId": "75c0bd62-59c2-4b28-af3c-475e9e68b6b0"
      },
      "outputs": [
        {
          "output_type": "execute_result",
          "data": {
            "text/plain": [
              "(19906,)"
            ]
          },
          "metadata": {},
          "execution_count": 16
        }
      ],
      "source": [
        "train_y.shape"
      ]
    },
    {
      "cell_type": "code",
      "execution_count": null,
      "metadata": {
        "colab": {
          "base_uri": "https://localhost:8080/"
        },
        "id": "jDttdnY_ow1E",
        "outputId": "10cb467f-5e39-4c9f-c847-be06a145a893"
      },
      "outputs": [
        {
          "output_type": "execute_result",
          "data": {
            "text/plain": [
              "array([0, 2, 0, 2, 0, 0, 2, 2, 2, 1, 2, 0, 0, 0, 0, 0, 1, 2, 1, 0, 2, 1,\n",
              "       2, 0, 0, 2, 0, 1, 0, 2])"
            ]
          },
          "metadata": {},
          "execution_count": 17
        }
      ],
      "source": [
        "train_y[:30]"
      ]
    },
    {
      "cell_type": "code",
      "execution_count": null,
      "metadata": {
        "id": "nRr70XrXkcwQ"
      },
      "outputs": [],
      "source": [
        "test_x /= 255\n",
        "train_x /= 255"
      ]
    },
    {
      "cell_type": "code",
      "execution_count": null,
      "metadata": {
        "id": "GQbdtDdHgJY2"
      },
      "outputs": [],
      "source": [
        "from sklearn.model_selection import train_test_split\n",
        "x1_train, x1_test, y1_train, y1_test = train_test_split(train_x, train_y, test_size=0.25, random_state=42, stratify=np.array(train_y))"
      ]
    },
    {
      "cell_type": "code",
      "execution_count": null,
      "metadata": {
        "colab": {
          "base_uri": "https://localhost:8080/"
        },
        "id": "dYu6LVS3inBC",
        "outputId": "d12f4671-8b4b-4ca6-c8e7-f7033b0c8e88"
      },
      "outputs": [
        {
          "output_type": "execute_result",
          "data": {
            "text/plain": [
              "array([[[0.16078432, 0.11764706, 0.14901961],\n",
              "        [0.15686275, 0.11372549, 0.14509805],\n",
              "        [0.15294118, 0.10980392, 0.14117648],\n",
              "        ...,\n",
              "        [0.1764706 , 0.10980392, 0.07058824],\n",
              "        [0.23137255, 0.18039216, 0.12156863],\n",
              "        [0.26666668, 0.22352941, 0.15294118]],\n",
              "\n",
              "       [[0.15686275, 0.11372549, 0.14509805],\n",
              "        [0.15294118, 0.10980392, 0.14117648],\n",
              "        [0.14901961, 0.10588235, 0.13725491],\n",
              "        ...,\n",
              "        [0.16078432, 0.09411765, 0.05490196],\n",
              "        [0.2       , 0.14901961, 0.09019608],\n",
              "        [0.22745098, 0.18039216, 0.11372549]],\n",
              "\n",
              "       [[0.16078432, 0.11372549, 0.14901961],\n",
              "        [0.15686275, 0.10980392, 0.14509805],\n",
              "        [0.15686275, 0.10980392, 0.14117648],\n",
              "        ...,\n",
              "        [0.14901961, 0.08235294, 0.04705882],\n",
              "        [0.16862746, 0.11372549, 0.06666667],\n",
              "        [0.18039216, 0.13333334, 0.07843138]],\n",
              "\n",
              "       ...,\n",
              "\n",
              "       [[0.3764706 , 0.19215687, 0.15294118],\n",
              "        [0.4117647 , 0.22745098, 0.1882353 ],\n",
              "        [0.46666667, 0.28235295, 0.24313726],\n",
              "        ...,\n",
              "        [0.49019608, 0.39215687, 0.21960784],\n",
              "        [0.49019608, 0.39607844, 0.22352941],\n",
              "        [0.49411765, 0.39607844, 0.22745098]],\n",
              "\n",
              "       [[0.3372549 , 0.17254902, 0.13333334],\n",
              "        [0.37254903, 0.20784314, 0.16862746],\n",
              "        [0.43137255, 0.2627451 , 0.22745098],\n",
              "        ...,\n",
              "        [0.49019608, 0.39215687, 0.22745098],\n",
              "        [0.49019608, 0.39215687, 0.22745098],\n",
              "        [0.4862745 , 0.39215687, 0.22745098]],\n",
              "\n",
              "       [[0.30980393, 0.18431373, 0.14117648],\n",
              "        [0.33333334, 0.20392157, 0.16470589],\n",
              "        [0.36862746, 0.23921569, 0.20392157],\n",
              "        ...,\n",
              "        [0.47843137, 0.3764706 , 0.23921569],\n",
              "        [0.47058824, 0.37254903, 0.23137255],\n",
              "        [0.4627451 , 0.36862746, 0.22745098]]], dtype=float32)"
            ]
          },
          "metadata": {},
          "execution_count": 20
        }
      ],
      "source": [
        "x1_train[0]"
      ]
    },
    {
      "cell_type": "code",
      "execution_count": null,
      "metadata": {
        "id": "--ijrXG7t4Tm"
      },
      "outputs": [],
      "source": [
        "from tensorflow.keras import datasets, layers, models"
      ]
    },
    {
      "cell_type": "code",
      "execution_count": null,
      "metadata": {
        "colab": {
          "base_uri": "https://localhost:8080/"
        },
        "id": "dHkMXuavruGg",
        "outputId": "0d16d5b6-4a65-4bfa-c636-a81c420781fd"
      },
      "outputs": [
        {
          "output_type": "stream",
          "name": "stdout",
          "text": [
            "Epoch 1/10\n",
            "467/467 [==============================] - 4s 7ms/step - loss: 0.9254 - accuracy: 0.5627\n",
            "Epoch 2/10\n",
            "467/467 [==============================] - 3s 7ms/step - loss: 0.8375 - accuracy: 0.6110\n",
            "Epoch 3/10\n",
            "467/467 [==============================] - 3s 7ms/step - loss: 0.8063 - accuracy: 0.6339\n",
            "Epoch 4/10\n",
            "467/467 [==============================] - 3s 7ms/step - loss: 0.7827 - accuracy: 0.6459\n",
            "Epoch 5/10\n",
            "467/467 [==============================] - 3s 7ms/step - loss: 0.7647 - accuracy: 0.6538\n",
            "Epoch 6/10\n",
            "467/467 [==============================] - 3s 7ms/step - loss: 0.7448 - accuracy: 0.6663\n",
            "Epoch 7/10\n",
            "467/467 [==============================] - 3s 7ms/step - loss: 0.7308 - accuracy: 0.6723\n",
            "Epoch 8/10\n",
            "467/467 [==============================] - 4s 9ms/step - loss: 0.7158 - accuracy: 0.6842\n",
            "Epoch 9/10\n",
            "467/467 [==============================] - 3s 7ms/step - loss: 0.7015 - accuracy: 0.6883\n",
            "Epoch 10/10\n",
            "467/467 [==============================] - 3s 7ms/step - loss: 0.6911 - accuracy: 0.6976\n"
          ]
        },
        {
          "output_type": "execute_result",
          "data": {
            "text/plain": [
              "<keras.callbacks.History at 0x7f1b6e266150>"
            ]
          },
          "metadata": {},
          "execution_count": 22
        }
      ],
      "source": [
        "ann = models.Sequential([\n",
        "        layers.Flatten(input_shape=(64,64,3)),\n",
        "        layers.Dense(3000, activation='relu'),\n",
        "        layers.Dense(2000, activation='relu'),\n",
        "        layers.Dense(1000, activation='relu'),\n",
        "        layers.Dense(500, activation='relu'),\n",
        "        layers.Dense(10, activation='softmax')    \n",
        "    ])\n",
        "\n",
        "ann.compile(optimizer='SGD',\n",
        "              loss='sparse_categorical_crossentropy',\n",
        "              metrics=['accuracy'])\n",
        "\n",
        "ann.fit(x1_train, y1_train, epochs=10)"
      ]
    },
    {
      "cell_type": "code",
      "execution_count": null,
      "metadata": {
        "colab": {
          "base_uri": "https://localhost:8080/"
        },
        "id": "li09_t-BtyBF",
        "outputId": "9a2cd4dc-a8fb-4d2c-db84-67ef5140b58c"
      },
      "outputs": [
        {
          "output_type": "stream",
          "name": "stdout",
          "text": [
            "156/156 [==============================] - 1s 4ms/step - loss: 0.8954 - accuracy: 0.5971\n"
          ]
        },
        {
          "output_type": "execute_result",
          "data": {
            "text/plain": [
              "[0.8954330682754517, 0.5971468687057495]"
            ]
          },
          "metadata": {},
          "execution_count": 23
        }
      ],
      "source": [
        "ann.evaluate(x1_test,y1_test)"
      ]
    },
    {
      "cell_type": "code",
      "execution_count": null,
      "metadata": {
        "id": "O0KUoAQ5N3fF"
      },
      "outputs": [],
      "source": [
        "data_augmentation = keras.Sequential(\n",
        "  [\n",
        "    layers.experimental.preprocessing.RandomFlip(\"horizontal\", \n",
        "                                                 input_shape=(64, 64, 3)),\n",
        "    layers.experimental.preprocessing.RandomRotation(0.1),\n",
        "    layers.experimental.preprocessing.RandomZoom(0.1),\n",
        "  ]\n",
        ")"
      ]
    },
    {
      "cell_type": "markdown",
      "source": [],
      "metadata": {
        "id": "lMX4RMJvgLUc"
      }
    },
    {
      "cell_type": "code",
      "execution_count": null,
      "metadata": {
        "id": "kMtyuaFius6Z"
      },
      "outputs": [],
      "source": [
        "cnn = models.Sequential([\n",
        "      data_augmentation,                    \n",
        "    layers.Conv2D(filters=32, kernel_size=(3, 3), padding='same', activation='relu', input_shape=(64, 64, 3)),\n",
        "    layers.MaxPooling2D((2, 2)),\n",
        "  \n",
        "    layers.Conv2D(filters=64, kernel_size=(3, 3), padding='same', activation='relu'),\n",
        "    layers.MaxPooling2D((2, 2)),\n",
        "\n",
        "     layers.Conv2D(filters=128, kernel_size=(3, 3), activation='relu'),\n",
        "    layers.MaxPooling2D((2, 2)),\n",
        "   \n",
        "    layers.Dropout(0.2),\n",
        "   \n",
        "    layers.Flatten(),\n",
        "    layers.Dense(64, activation='relu'),\n",
        "    layers.Dense(100, activation='softmax')\n",
        "])"
      ]
    },
    {
      "cell_type": "code",
      "execution_count": null,
      "metadata": {
        "id": "4vyZOU0Yu9MR"
      },
      "outputs": [],
      "source": [
        "cnn.compile(optimizer='adam',\n",
        "              loss='sparse_categorical_crossentropy',\n",
        "              metrics=['accuracy'])"
      ]
    },
    {
      "cell_type": "code",
      "source": [
        "cnn.summary()"
      ],
      "metadata": {
        "colab": {
          "base_uri": "https://localhost:8080/"
        },
        "id": "-zIjyrpDeZCZ",
        "outputId": "12fa4473-7b5d-4d32-dd11-6d7725ab85b3"
      },
      "execution_count": null,
      "outputs": [
        {
          "output_type": "stream",
          "name": "stdout",
          "text": [
            "Model: \"sequential_4\"\n",
            "_________________________________________________________________\n",
            " Layer (type)                Output Shape              Param #   \n",
            "=================================================================\n",
            " sequential_3 (Sequential)   (None, 64, 64, 3)         0         \n",
            "                                                                 \n",
            " conv2d_3 (Conv2D)           (None, 64, 64, 32)        896       \n",
            "                                                                 \n",
            " max_pooling2d_3 (MaxPooling  (None, 32, 32, 32)       0         \n",
            " 2D)                                                             \n",
            "                                                                 \n",
            " conv2d_4 (Conv2D)           (None, 32, 32, 64)        18496     \n",
            "                                                                 \n",
            " max_pooling2d_4 (MaxPooling  (None, 16, 16, 64)       0         \n",
            " 2D)                                                             \n",
            "                                                                 \n",
            " conv2d_5 (Conv2D)           (None, 14, 14, 128)       73856     \n",
            "                                                                 \n",
            " max_pooling2d_5 (MaxPooling  (None, 7, 7, 128)        0         \n",
            " 2D)                                                             \n",
            "                                                                 \n",
            " dropout_1 (Dropout)         (None, 7, 7, 128)         0         \n",
            "                                                                 \n",
            " flatten_2 (Flatten)         (None, 6272)              0         \n",
            "                                                                 \n",
            " dense_7 (Dense)             (None, 64)                401472    \n",
            "                                                                 \n",
            " dense_8 (Dense)             (None, 100)               6500      \n",
            "                                                                 \n",
            "=================================================================\n",
            "Total params: 501,220\n",
            "Trainable params: 501,220\n",
            "Non-trainable params: 0\n",
            "_________________________________________________________________\n"
          ]
        }
      ]
    },
    {
      "cell_type": "code",
      "execution_count": null,
      "metadata": {
        "colab": {
          "base_uri": "https://localhost:8080/"
        },
        "id": "xMhA9Seju_cj",
        "outputId": "ad7c06e4-1f4c-47b6-9582-0c45a494dacf"
      },
      "outputs": [
        {
          "output_type": "stream",
          "name": "stdout",
          "text": [
            "Epoch 1/30\n",
            "467/467 [==============================] - 4s 10ms/step - loss: 0.6205 - accuracy: 0.7361\n",
            "Epoch 2/30\n",
            "467/467 [==============================] - 4s 8ms/step - loss: 0.6105 - accuracy: 0.7412\n",
            "Epoch 3/30\n",
            "467/467 [==============================] - 4s 9ms/step - loss: 0.6006 - accuracy: 0.7439\n",
            "Epoch 4/30\n",
            "467/467 [==============================] - 4s 8ms/step - loss: 0.5860 - accuracy: 0.7488\n",
            "Epoch 5/30\n",
            "467/467 [==============================] - 4s 8ms/step - loss: 0.5713 - accuracy: 0.7599\n",
            "Epoch 6/30\n",
            "467/467 [==============================] - 4s 8ms/step - loss: 0.5637 - accuracy: 0.7604\n",
            "Epoch 7/30\n",
            "467/467 [==============================] - 4s 8ms/step - loss: 0.5554 - accuracy: 0.7665\n",
            "Epoch 8/30\n",
            "467/467 [==============================] - 4s 9ms/step - loss: 0.5517 - accuracy: 0.7660\n",
            "Epoch 9/30\n",
            "467/467 [==============================] - 4s 8ms/step - loss: 0.5349 - accuracy: 0.7759\n",
            "Epoch 10/30\n",
            "467/467 [==============================] - 4s 8ms/step - loss: 0.5249 - accuracy: 0.7819\n",
            "Epoch 11/30\n",
            "467/467 [==============================] - 4s 9ms/step - loss: 0.5165 - accuracy: 0.7862\n",
            "Epoch 12/30\n",
            "467/467 [==============================] - 4s 8ms/step - loss: 0.5099 - accuracy: 0.7905\n",
            "Epoch 13/30\n",
            "467/467 [==============================] - 4s 8ms/step - loss: 0.5034 - accuracy: 0.7923\n",
            "Epoch 14/30\n",
            "467/467 [==============================] - 4s 9ms/step - loss: 0.4936 - accuracy: 0.7952\n",
            "Epoch 15/30\n",
            "467/467 [==============================] - 4s 8ms/step - loss: 0.4877 - accuracy: 0.7964\n",
            "Epoch 16/30\n",
            "467/467 [==============================] - 4s 8ms/step - loss: 0.4855 - accuracy: 0.8001\n",
            "Epoch 17/30\n",
            "467/467 [==============================] - 4s 8ms/step - loss: 0.4816 - accuracy: 0.7997\n",
            "Epoch 18/30\n",
            "467/467 [==============================] - 4s 9ms/step - loss: 0.4668 - accuracy: 0.8089\n",
            "Epoch 19/30\n",
            "467/467 [==============================] - 4s 8ms/step - loss: 0.4614 - accuracy: 0.8127\n",
            "Epoch 20/30\n",
            "467/467 [==============================] - 4s 8ms/step - loss: 0.4570 - accuracy: 0.8133\n",
            "Epoch 21/30\n",
            "467/467 [==============================] - 4s 9ms/step - loss: 0.4509 - accuracy: 0.8129\n",
            "Epoch 22/30\n",
            "467/467 [==============================] - 4s 9ms/step - loss: 0.4398 - accuracy: 0.8190\n",
            "Epoch 23/30\n",
            "467/467 [==============================] - 4s 9ms/step - loss: 0.4460 - accuracy: 0.8161\n",
            "Epoch 24/30\n",
            "467/467 [==============================] - 4s 9ms/step - loss: 0.4301 - accuracy: 0.8246\n",
            "Epoch 25/30\n",
            "467/467 [==============================] - 4s 9ms/step - loss: 0.4345 - accuracy: 0.8223\n",
            "Epoch 26/30\n",
            "467/467 [==============================] - 4s 9ms/step - loss: 0.4184 - accuracy: 0.8319\n",
            "Epoch 27/30\n",
            "467/467 [==============================] - 4s 9ms/step - loss: 0.4166 - accuracy: 0.8320\n",
            "Epoch 28/30\n",
            "467/467 [==============================] - 4s 9ms/step - loss: 0.4072 - accuracy: 0.8355\n",
            "Epoch 29/30\n",
            "467/467 [==============================] - 4s 8ms/step - loss: 0.4127 - accuracy: 0.8353\n",
            "Epoch 30/30\n",
            "467/467 [==============================] - 4s 8ms/step - loss: 0.4079 - accuracy: 0.8329\n"
          ]
        },
        {
          "output_type": "execute_result",
          "data": {
            "text/plain": [
              "<keras.callbacks.History at 0x7f1adc62eb10>"
            ]
          },
          "metadata": {},
          "execution_count": 41
        }
      ],
      "source": [
        "cnn.fit(x1_train, y1_train, epochs=30)"
      ]
    },
    {
      "cell_type": "code",
      "execution_count": null,
      "metadata": {
        "colab": {
          "base_uri": "https://localhost:8080/"
        },
        "id": "YDoEhhFnvED3",
        "outputId": "076c5f7b-1e6f-44a3-d0b5-00510c09d99c"
      },
      "outputs": [
        {
          "output_type": "stream",
          "name": "stdout",
          "text": [
            "156/156 [==============================] - 1s 5ms/step - loss: 0.4720 - accuracy: 0.8194\n"
          ]
        },
        {
          "output_type": "execute_result",
          "data": {
            "text/plain": [
              "[0.47202324867248535, 0.8193690776824951]"
            ]
          },
          "metadata": {},
          "execution_count": 42
        }
      ],
      "source": [
        "cnn.evaluate(x1_test,y1_test)"
      ]
    },
    {
      "cell_type": "code",
      "execution_count": null,
      "metadata": {
        "colab": {
          "base_uri": "https://localhost:8080/"
        },
        "id": "zfg6y3eovrIK",
        "outputId": "0be6ad53-3bba-4d73-d869-15a91536af42"
      },
      "outputs": [
        {
          "output_type": "execute_result",
          "data": {
            "text/plain": [
              "array([[9.63211477e-01, 1.70231964e-02, 1.97652616e-02, 6.39288023e-20,\n",
              "        4.61420423e-19, 1.33596778e-20, 1.44756581e-19, 8.45186318e-19,\n",
              "        1.06292295e-19, 8.02571666e-21, 2.46338833e-19, 9.16762308e-19,\n",
              "        4.40690398e-19, 5.95511828e-19, 6.62885482e-20, 2.10084246e-20,\n",
              "        4.43033335e-19, 1.01564977e-19, 4.28068009e-19, 1.28927084e-19,\n",
              "        4.31868122e-20, 6.80007656e-19, 6.62868163e-19, 3.15666442e-19,\n",
              "        1.81889869e-19, 2.32277124e-19, 5.07225407e-20, 4.42209308e-19,\n",
              "        2.52308440e-20, 2.42155470e-19, 8.29689426e-20, 1.85923616e-19,\n",
              "        3.59005013e-20, 3.71049110e-18, 1.27549120e-18, 1.60404628e-19,\n",
              "        3.46110385e-19, 3.33291813e-20, 2.87346163e-20, 2.59740544e-18,\n",
              "        2.00822870e-19, 5.21230576e-20, 5.05622001e-20, 5.84976572e-20,\n",
              "        3.80978581e-19, 1.20908060e-19, 4.69223424e-19, 2.27393786e-19,\n",
              "        1.64498164e-19, 2.13134820e-19, 1.34792751e-18, 1.88085077e-19,\n",
              "        5.29026850e-20, 9.18309446e-19, 2.57493198e-18, 1.13330231e-20,\n",
              "        7.84755488e-20, 1.67058761e-18, 3.69276793e-19, 7.92635431e-19,\n",
              "        3.50121901e-20, 8.54541631e-21, 8.61089977e-20, 6.13141684e-19,\n",
              "        1.80070046e-19, 6.63695215e-20, 5.27765591e-18, 8.87857622e-21,\n",
              "        4.56223712e-20, 4.75444740e-20, 1.42974098e-19, 2.00062834e-19,\n",
              "        2.10479855e-19, 8.80921422e-21, 8.22253589e-20, 1.41653801e-19,\n",
              "        2.11419726e-19, 1.48538653e-18, 2.62124308e-19, 3.56234456e-19,\n",
              "        8.26751189e-20, 1.75546875e-18, 4.78841092e-20, 4.07949710e-20,\n",
              "        3.09758040e-20, 1.60793028e-19, 5.41066749e-19, 3.15227093e-20,\n",
              "        5.96890118e-19, 2.35618339e-19, 1.87191787e-19, 1.01358721e-18,\n",
              "        4.16156298e-19, 2.26098802e-20, 1.48948335e-18, 4.45657203e-19,\n",
              "        5.15850251e-20, 9.84045386e-19, 2.73432616e-19, 6.71024733e-19]],\n",
              "      dtype=float32)"
            ]
          },
          "metadata": {},
          "execution_count": 43
        }
      ],
      "source": [
        "y_pred = cnn.predict(test_x)\n",
        "y_pred[:1]"
      ]
    },
    {
      "cell_type": "code",
      "execution_count": null,
      "metadata": {
        "colab": {
          "base_uri": "https://localhost:8080/"
        },
        "id": "QcHQTZKSv3uY",
        "outputId": "a6de40e8-4a52-4775-eb86-e1e35b2118ab"
      },
      "outputs": [
        {
          "output_type": "execute_result",
          "data": {
            "text/plain": [
              "[0, 2, 2, 0, 1]"
            ]
          },
          "metadata": {},
          "execution_count": 34
        }
      ],
      "source": [
        "y_classes = [np.argmax(element) for element in y_pred]\n",
        "y_classes[:5]"
      ]
    },
    {
      "cell_type": "code",
      "source": [
        "IMG_SHAPE = (64,64, 3)\n",
        "import tensorflow as tf\n",
        "VGG16_MODEL=tf.keras.applications.VGG16(input_shape=IMG_SHAPE,\n",
        "                                               include_top=False,\n",
        "                                               weights='imagenet')"
      ],
      "metadata": {
        "id": "3KW1QPXflvO5"
      },
      "execution_count": null,
      "outputs": []
    },
    {
      "cell_type": "code",
      "source": [
        "data_augmentation = keras.Sequential(\n",
        "  [\n",
        "    layers.experimental.preprocessing.RandomFlip(\"horizontal\", \n",
        "                                                 input_shape=(64, 64, 3)),\n",
        "    layers.experimental.preprocessing.RandomRotation(0.1),\n",
        "    layers.experimental.preprocessing.RandomZoom(0.1),\n",
        "  ]\n",
        ")"
      ],
      "metadata": {
        "id": "vlZZoF-po8bd"
      },
      "execution_count": null,
      "outputs": []
    },
    {
      "cell_type": "code",
      "source": [
        "VGG16_MODEL.trainable=False\n",
        "global_average_layer = tf.keras.layers.GlobalAveragePooling2D()\n",
        "prediction_layer = tf.keras.layers.Dense(3,activation='softmax')"
      ],
      "metadata": {
        "id": "qihd3VVXlvEY"
      },
      "execution_count": null,
      "outputs": []
    },
    {
      "cell_type": "code",
      "source": [
        "model = tf.keras.Sequential([\n",
        "  VGG16_MODEL,\n",
        "  global_average_layer,\n",
        "  prediction_layer\n",
        "])"
      ],
      "metadata": {
        "id": "DbN3cM5HlvBB"
      },
      "execution_count": null,
      "outputs": []
    },
    {
      "cell_type": "code",
      "source": [
        "model.compile(optimizer=tf.optimizers.Adam(), \n",
        "              loss=tf.keras.losses.sparse_categorical_crossentropy,\n",
        "              metrics=[\"accuracy\"])"
      ],
      "metadata": {
        "id": "wyoTCEM8lu9J"
      },
      "execution_count": null,
      "outputs": []
    },
    {
      "cell_type": "code",
      "source": [
        "history = model.fit(x1_train, y1_train, epochs=20)"
      ],
      "metadata": {
        "colab": {
          "base_uri": "https://localhost:8080/"
        },
        "id": "k49P8mDIlu6B",
        "outputId": "fb239b93-baef-4147-b586-8ac2d2fcc967"
      },
      "execution_count": null,
      "outputs": [
        {
          "output_type": "stream",
          "name": "stdout",
          "text": [
            "Epoch 1/20\n",
            "467/467 [==============================] - 8s 18ms/step - loss: 0.7230 - accuracy: 0.6839\n",
            "Epoch 2/20\n",
            "467/467 [==============================] - 8s 18ms/step - loss: 0.7180 - accuracy: 0.6888\n",
            "Epoch 3/20\n",
            "467/467 [==============================] - 9s 18ms/step - loss: 0.7149 - accuracy: 0.6884\n",
            "Epoch 4/20\n",
            "467/467 [==============================] - 9s 18ms/step - loss: 0.7141 - accuracy: 0.6901\n",
            "Epoch 5/20\n",
            "467/467 [==============================] - 8s 18ms/step - loss: 0.7101 - accuracy: 0.6917\n",
            "Epoch 6/20\n",
            "467/467 [==============================] - 8s 18ms/step - loss: 0.7078 - accuracy: 0.6928\n",
            "Epoch 7/20\n",
            "467/467 [==============================] - 8s 18ms/step - loss: 0.7061 - accuracy: 0.6925\n",
            "Epoch 8/20\n",
            "467/467 [==============================] - 8s 18ms/step - loss: 0.7041 - accuracy: 0.6944\n",
            "Epoch 9/20\n",
            "467/467 [==============================] - 8s 18ms/step - loss: 0.7022 - accuracy: 0.6962\n",
            "Epoch 10/20\n",
            "467/467 [==============================] - 8s 18ms/step - loss: 0.7006 - accuracy: 0.6992\n",
            "Epoch 11/20\n",
            "467/467 [==============================] - 8s 18ms/step - loss: 0.6983 - accuracy: 0.6974\n",
            "Epoch 12/20\n",
            "467/467 [==============================] - 8s 18ms/step - loss: 0.6974 - accuracy: 0.6978\n",
            "Epoch 13/20\n",
            "467/467 [==============================] - 8s 18ms/step - loss: 0.6968 - accuracy: 0.6994\n",
            "Epoch 14/20\n",
            "467/467 [==============================] - 8s 18ms/step - loss: 0.6951 - accuracy: 0.6978\n",
            "Epoch 15/20\n",
            "467/467 [==============================] - 8s 18ms/step - loss: 0.6937 - accuracy: 0.6998\n",
            "Epoch 16/20\n",
            "467/467 [==============================] - 8s 18ms/step - loss: 0.6933 - accuracy: 0.7004\n",
            "Epoch 17/20\n",
            "467/467 [==============================] - 8s 18ms/step - loss: 0.6921 - accuracy: 0.7004\n",
            "Epoch 18/20\n",
            "467/467 [==============================] - 8s 18ms/step - loss: 0.6899 - accuracy: 0.7002\n",
            "Epoch 19/20\n",
            "467/467 [==============================] - 8s 18ms/step - loss: 0.6890 - accuracy: 0.7022\n",
            "Epoch 20/20\n",
            "467/467 [==============================] - 8s 18ms/step - loss: 0.6888 - accuracy: 0.7030\n"
          ]
        }
      ]
    },
    {
      "cell_type": "code",
      "source": [],
      "metadata": {
        "id": "JXfaaAw2luwM"
      },
      "execution_count": null,
      "outputs": []
    },
    {
      "cell_type": "code",
      "source": [],
      "metadata": {
        "id": "Pj3ikJN5Wyl1"
      },
      "execution_count": null,
      "outputs": []
    },
    {
      "cell_type": "code",
      "source": [],
      "metadata": {
        "id": "UwAFIze7nEXg"
      },
      "execution_count": null,
      "outputs": []
    },
    {
      "cell_type": "code",
      "source": [],
      "metadata": {
        "id": "ROisa4eXnEUI"
      },
      "execution_count": null,
      "outputs": []
    },
    {
      "cell_type": "code",
      "source": [],
      "metadata": {
        "id": "VuiHzpdGnERV"
      },
      "execution_count": null,
      "outputs": []
    },
    {
      "cell_type": "code",
      "source": [],
      "metadata": {
        "id": "kVAzWwPnnEOs"
      },
      "execution_count": null,
      "outputs": []
    },
    {
      "cell_type": "code",
      "source": [],
      "metadata": {
        "id": "3VYZCw23nELx"
      },
      "execution_count": null,
      "outputs": []
    },
    {
      "cell_type": "code",
      "source": [],
      "metadata": {
        "id": "FpHVxeSVnEIZ"
      },
      "execution_count": null,
      "outputs": []
    },
    {
      "cell_type": "code",
      "source": [],
      "metadata": {
        "id": "yU9c-RrFnEFp"
      },
      "execution_count": null,
      "outputs": []
    },
    {
      "cell_type": "code",
      "source": [],
      "metadata": {
        "id": "cqXWJehYnEC9"
      },
      "execution_count": null,
      "outputs": []
    },
    {
      "cell_type": "code",
      "source": [],
      "metadata": {
        "id": "ynf5y970nEAG"
      },
      "execution_count": null,
      "outputs": []
    },
    {
      "cell_type": "code",
      "source": [],
      "metadata": {
        "id": "2oBlSJP0nD9W"
      },
      "execution_count": null,
      "outputs": []
    },
    {
      "cell_type": "code",
      "source": [],
      "metadata": {
        "id": "zWtlDrxknD6W"
      },
      "execution_count": null,
      "outputs": []
    },
    {
      "cell_type": "code",
      "source": [],
      "metadata": {
        "id": "QWQjSwi0nD3j"
      },
      "execution_count": null,
      "outputs": []
    },
    {
      "cell_type": "code",
      "source": [],
      "metadata": {
        "id": "Xr4bIANPnD01"
      },
      "execution_count": null,
      "outputs": []
    },
    {
      "cell_type": "code",
      "source": [],
      "metadata": {
        "id": "amD5MBsznDyD"
      },
      "execution_count": null,
      "outputs": []
    },
    {
      "cell_type": "code",
      "source": [],
      "metadata": {
        "id": "1iyix2FanDvH"
      },
      "execution_count": null,
      "outputs": []
    },
    {
      "cell_type": "code",
      "source": [],
      "metadata": {
        "id": "IuRRbS25nDsv"
      },
      "execution_count": null,
      "outputs": []
    },
    {
      "cell_type": "code",
      "source": [],
      "metadata": {
        "id": "cAC6C3NEnDpr"
      },
      "execution_count": null,
      "outputs": []
    },
    {
      "cell_type": "code",
      "source": [],
      "metadata": {
        "id": "wZ8Xc8C1nDnT"
      },
      "execution_count": null,
      "outputs": []
    },
    {
      "cell_type": "code",
      "source": [],
      "metadata": {
        "id": "evHEPDwhnDkg"
      },
      "execution_count": null,
      "outputs": []
    },
    {
      "cell_type": "markdown",
      "source": [
        "**transfer** **learning**"
      ],
      "metadata": {
        "id": "Hps2h8kyWjDr"
      }
    },
    {
      "cell_type": "markdown",
      "source": [
        "ddf\n"
      ],
      "metadata": {
        "id": "4JKjnJwDWdQs"
      }
    },
    {
      "cell_type": "code",
      "execution_count": null,
      "metadata": {
        "id": "OEPqoshCv-3n"
      },
      "outputs": [],
      "source": [
        "aged=[\"MIDDLE\",\"OLD\",\"YOUNG\"]"
      ]
    },
    {
      "cell_type": "code",
      "execution_count": null,
      "metadata": {
        "id": "UDCgVbR4xrs4"
      },
      "outputs": [],
      "source": [
        "print(y_classes)\n",
        "print(len(y_classes))"
      ]
    },
    {
      "cell_type": "code",
      "execution_count": null,
      "metadata": {
        "id": "PbSVwgKDylD2"
      },
      "outputs": [],
      "source": [
        "submission= pd.DataFrame({\n",
        "     \"Class\": y_classes,\n",
        "    \"ID\":test[ \"ID\"]\n",
        "   \n",
        "    \n",
        "})"
      ]
    },
    {
      "cell_type": "code",
      "source": [
        "import matplotlib.pyplot as plt\n",
        "import numpy as np\n",
        "import PIL\n",
        "import tensorflow as tf\n",
        "from keras.models import Sequential\n",
        "from keras.layers.core import Flatten, Dense, Dropout\n",
        "from tensorflow.keras import layers\n",
        "from tensorflow.keras.models import Sequential\n",
        "from tensorflow.keras.optimizers import Adam"
      ],
      "metadata": {
        "id": "Rjl9HMRlXdc1"
      },
      "execution_count": null,
      "outputs": []
    },
    {
      "cell_type": "code",
      "source": [
        "resnet_model = Sequential()\n",
        "\n",
        "pretrained_model= tf.keras.applications.ResNet50(include_top=False,\n",
        "                   input_shape=(64,64,3),\n",
        "                   pooling='avg',\n",
        "                   weights='imagenet')\n",
        "for layer in pretrained_model.layers:\n",
        "        layer.trainable=False\n",
        "\n",
        "resnet_model.add(pretrained_model)"
      ],
      "metadata": {
        "id": "S7tk9ISrZmz4"
      },
      "execution_count": null,
      "outputs": []
    },
    {
      "cell_type": "code",
      "source": [
        "resnet_model.add(Flatten())\n",
        "resnet_model.add(Dense(64, activation='relu'))\n",
        "resnet_model.add(Dense(1, activation='softmax'))"
      ],
      "metadata": {
        "id": "EeFncTPVYfFY"
      },
      "execution_count": null,
      "outputs": []
    },
    {
      "cell_type": "code",
      "source": [
        "resnet_model.summary()"
      ],
      "metadata": {
        "id": "0JyhUWltXdpo"
      },
      "execution_count": null,
      "outputs": []
    },
    {
      "cell_type": "code",
      "source": [
        "resnet_model.compile(optimizer=Adam(lr=0.001),loss='categorical_crossentropy',metrics=['accuracy'])\n",
        "\n",
        "history = resnet_model.fit(x1_train, y1_train, epochs=10)"
      ],
      "metadata": {
        "id": "XHTVJNZhXdsw"
      },
      "execution_count": null,
      "outputs": []
    },
    {
      "cell_type": "code",
      "source": [],
      "metadata": {
        "id": "BKI_iFr9Z-TK"
      },
      "execution_count": null,
      "outputs": []
    },
    {
      "cell_type": "code",
      "source": [],
      "metadata": {
        "id": "-k0yacEkXdwF"
      },
      "execution_count": null,
      "outputs": []
    },
    {
      "cell_type": "code",
      "execution_count": null,
      "metadata": {
        "id": "g4T9Dfd00yRg"
      },
      "outputs": [],
      "source": [
        "#submission.to_csv(\"submission Age-Detection-of-Indian-Actors.csv\",index=False)"
      ]
    },
    {
      "cell_type": "code",
      "execution_count": null,
      "metadata": {
        "id": "-gsUxSWq09-E"
      },
      "outputs": [],
      "source": [
        "#submission = pd.read_csv(\"submission Age-Detection-of-Indian-Actors.csv\")"
      ]
    },
    {
      "cell_type": "code",
      "execution_count": null,
      "metadata": {
        "id": "isogRmt41cx0"
      },
      "outputs": [],
      "source": [
        "#submission['Class'].replace(0, \"MIDDLE\",inplace = True)\n",
        "#submission['Class'].replace(1, \"OLD\",inplace = True)\n",
        "#submission['Class'].replace(2, \"YOUNG\",inplace = True)"
      ]
    },
    {
      "cell_type": "code",
      "execution_count": null,
      "metadata": {
        "id": "14AW4tN-2oGj"
      },
      "outputs": [],
      "source": [
        "#pd.DataFrame(submission, columns= ['Class', 'ID']).to_csv('logistic.csv')"
      ]
    },
    {
      "cell_type": "code",
      "execution_count": null,
      "metadata": {
        "id": "ugGsC4xd3Z7A",
        "colab": {
          "base_uri": "https://localhost:8080/"
        },
        "outputId": "a1c8ee32-903f-4219-dafe-adee1d9a9557"
      },
      "outputs": [
        {
          "output_type": "stream",
          "name": "stdout",
          "text": [
            "Requirement already satisfied: imutils in /usr/local/lib/python3.7/dist-packages (0.5.4)\n"
          ]
        }
      ],
      "source": [
        "!pip install --upgrade imutils"
      ]
    },
    {
      "cell_type": "code",
      "source": [
        "from resnet import ResNet"
      ],
      "metadata": {
        "colab": {
          "base_uri": "https://localhost:8080/",
          "height": 304
        },
        "id": "HUExx22Qqto1",
        "outputId": "d378eabc-27c3-4256-8f1b-8aa8714bc946"
      },
      "execution_count": null,
      "outputs": [
        {
          "output_type": "error",
          "ename": "ModuleNotFoundError",
          "evalue": "ignored",
          "traceback": [
            "\u001b[0;31m---------------------------------------------------------------------------\u001b[0m",
            "\u001b[0;31mModuleNotFoundError\u001b[0m                       Traceback (most recent call last)",
            "\u001b[0;32m<ipython-input-81-01e3cec6758f>\u001b[0m in \u001b[0;36m<module>\u001b[0;34m()\u001b[0m\n\u001b[0;32m----> 1\u001b[0;31m \u001b[0;32mfrom\u001b[0m \u001b[0mresnet\u001b[0m \u001b[0;32mimport\u001b[0m \u001b[0mResNet\u001b[0m\u001b[0;34m\u001b[0m\u001b[0;34m\u001b[0m\u001b[0m\n\u001b[0m",
            "\u001b[0;31mModuleNotFoundError\u001b[0m: No module named 'resnet'",
            "",
            "\u001b[0;31m---------------------------------------------------------------------------\u001b[0;32m\nNOTE: If your import is failing due to a missing package, you can\nmanually install dependencies using either !pip or !apt.\n\nTo view examples of installing some common dependencies, click the\n\"Open Examples\" button below.\n\u001b[0;31m---------------------------------------------------------------------------\u001b[0m\n"
          ],
          "errorDetails": {
            "actions": [
              {
                "action": "open_url",
                "actionText": "Open Examples",
                "url": "/notebooks/snippets/importing_libraries.ipynb"
              }
            ]
          }
        }
      ]
    },
    {
      "cell_type": "code",
      "source": [],
      "metadata": {
        "id": "IBX22j8OsVk3"
      },
      "execution_count": null,
      "outputs": []
    }
  ],
  "metadata": {
    "accelerator": "GPU",
    "colab": {
      "provenance": [],
      "include_colab_link": true
    },
    "kernelspec": {
      "display_name": "Python 3",
      "name": "python3"
    },
    "language_info": {
      "name": "python"
    }
  },
  "nbformat": 4,
  "nbformat_minor": 0
}